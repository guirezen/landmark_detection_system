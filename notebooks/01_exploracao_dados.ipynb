{
 "cells": [
  {
   "cell_type": "markdown",
   "metadata": {},
   "source": [
    "# Notebook 1: Exploração Inicial dos Dados e Pré-processamento\n",
    "\n",
    "Este notebook realiza uma exploração inicial dos modelos 3D de crânios (arquivos `.stl`) e demonstra as etapas de pré-processamento implementadas no módulo `mesh_processor.py`.\n",
    "\n",
    "**Objetivos:**\n",
    "1. Carregar um ou mais modelos STL.\n",
    "2. Visualizar a malha original.\n",
    "3. Aplicar a simplificação da malha.\n",
    "4. Visualizar a malha simplificada.\n",
    "5. Verificar o funcionamento do cache.\n",
    "6. Analisar propriedades básicas das malhas (número de vértices/faces)."\n   ]
  },
  {
   "cell_type": "code",
   "execution_count": null,
   "metadata": {},
   "outputs": [],
   "source": [
    "# Configurações Iniciais e Imports\n",
    "import os\n",
    "import sys\n",
    "import logging\n",
    "import trimesh\n",
    "import numpy as np\n",
    "import matplotlib.pyplot as plt\n",
    "\n",
    "# Adicionar o diretório raiz do projeto ao path para importar os módulos src\n",
    "# Ajuste o caminho se necessário, dependendo de onde você executa o notebook\n",
    "module_path = os.path.abspath(os.path.join('..')) # Assume que notebooks está um nível abaixo da raiz\n",
    "if module_path not in sys.path:\n",
    "    sys.path.append(module_path)\n",
    "\n",
    "from src.core.mesh_processor import MeshProcessor\n",
    "from src.utils.visualization import plot_landmarks_2d, plot_landmarks_3d_o3d, plot_landmarks, OPEN3D_AVAILABLE\n",
    "from src.utils.helpers import setup_logging, timeit\n",
    "\n",
    "# Configurar logging\n",
    "setup_logging(log_level=logging.INFO)\n",
    "\n",
    "# Diretórios (ajuste conforme necessário)\n",
    "BASE_DIR = module_path\n",
    "DATA_DIR = os.path.join(BASE_DIR, 'data', 'skulls')\n",
    "CACHE_DIR = os.path.join(BASE_DIR, 'data', 'cache')\n",
    "RESULTS_DIR = os.path.join(BASE_DIR, 'results')\n",
    "\n",
    "# Criar diretórios se não existirem (especialmente para exemplos dummy)\n",
    "os.makedirs(DATA_DIR, exist_ok=True)\n",
    "os.makedirs(CACHE_DIR, exist_ok=True)\n",
    "os.makedirs(RESULTS_DIR, exist_ok=True)\n",
    "\n",
    "# --- IMPORTANTE: Criação de Arquivo Dummy ---\n",
    "# Como não temos acesso aos dados reais do MUG500+, criaremos um arquivo STL dummy\n",
    "# para permitir a execução do notebook. Substitua 'dummy_skull.stl' pelo nome\n",
    "# de um arquivo real quando tiver os dados.\n",
    "dummy_stl_filename = \"dummy_skull_explore.stl\"\n",
    "dummy_stl_path = os.path.join(DATA_DIR, dummy_stl_filename)\n",
    "if not os.path.exists(dummy_stl_path):\n",
    "    logging.info(f\"Criando arquivo STL dummy em {dummy_stl_path}\")\n",
    "    # Usar uma primitiva do trimesh (ex: esfera achatada para parecer um crânio)\n",
    "    mesh_dummy = trimesh.primitives.Sphere(radius=60, subdivisions=4)\n",
    "    mesh_dummy.apply_scale([1, 1, 0.7]) # Achatar um pouco\n",
    "    mesh_dummy.vertices += [0, 0, 60] # Mover um pouco para cima\n",
    "    mesh_dummy.export(dummy_stl_path)\n",
    "    logging.info(f\"Arquivo STL dummy '{dummy_stl_filename}' criado.\")\n",
    "else:\n",
    "    logging.info(f\"Usando arquivo STL existente: '{dummy_stl_filename}'\")\n",
    "\n",
    "# Selecionar arquivo para análise (use o dummy ou um real se disponível)\n",
    "TARGET_STL_FILENAME = dummy_stl_filename\n",
    "# TARGET_STL_FILENAME = \"A0001.stl\" # Exemplo se tivesse o arquivo real\n",
    "TARGET_STL_PATH = os.path.join(DATA_DIR, TARGET_STL_FILENAME)"
   ]
  },
  {
   "cell_type": "markdown",
   "metadata": {},
   "source": [
    "## 1. Carregamento da Malha Original\n",
    "\n",
    "Utilizamos a classe `MeshProcessor` para carregar o arquivo STL. O processador lida com o cache para acelerar carregamentos futuros."
   ]
  },
  {
   "cell_type": "code",
   "execution_count": null,
   "metadata": {},
   "outputs": [],
   "source": [
    "processor = MeshProcessor(data_dir=DATA_DIR, cache_dir=CACHE_DIR)\n",
    "\n",
    "# Carregar a malha (primeira vez pode demorar mais se não houver cache)\n",
    "logging.info(f\"Carregando malha: {TARGET_STL_FILENAME}\")\n",
    "mesh_original = processor.load_skull(TARGET_STL_FILENAME, use_cache=True)\n",
    "\n",
    "if mesh_original:\n",
    "    logging.info(f\"Malha original carregada com sucesso.\")\n",
    "    print(f\"Número de Vértices (Original): {len(mesh_original.vertices)}\")\n",
    "    print(f\"Número de Faces (Original): {len(mesh_original.faces)}\")\n",
    "    print(f\"Extensão (Bounding Box): {mesh_original.extents}\")\n",
    "    print(f\"Centroide: {mesh_original.centroid}\")\n",
    "else:\n",
    "    logging.error(f\"Falha ao carregar a malha {TARGET_STL_FILENAME}. Verifique o caminho e o arquivo.\")"\n   ]
  },
  {
   "cell_type": "markdown",
   "metadata": {},
   "source": [
    "## 2. Visualização da Malha Original\n",
    "\n",
    "Visualizamos a malha carregada. Se `open3d` estiver disponível, uma visualização 3D interativa será tentada. Caso contrário, projeções 2D serão mostradas usando `matplotlib`."
   ]
  },
  {
   "cell_type": "code",
   "execution_count": null,
   "metadata": {},
   "outputs": [],
   "source": [
    "if mesh_original:\n",
    "    logging.info(\"Visualizando malha original...\")\n",
    "    # Salvar a visualização 2D para referência\n",
    "    vis_orig_2d_path = os.path.join(RESULTS_DIR, f\"{os.path.splitext(TARGET_STL_FILENAME)[0]}_original_2d.png\")\n",
    "    plot_landmarks(mesh_original, \n",
    "                   landmarks_dict=None, # Sem landmarks nesta etapa\n",
    "                   title=f\"Malha Original: {TARGET_STL_FILENAME}\", \n",
    "                   save_path_2d=vis_orig_2d_path)\n",
    "    \n",
    "    # Se a visualização 2D foi salva, podemos exibi-la aqui (requer ambiente gráfico ou libs como Pillow)\n",
    "    if os.path.exists(vis_orig_2d_path):\n",
    "        print(f\"Visualização 2D da malha original salva em: {vis_orig_2d_path}\")\n",
    "        # from IPython.display import Image\n",
    "        # display(Image(filename=vis_orig_2d_path)) # Descomentar para exibir no notebook\n",
    "else:\n",
    "    print(\"Malha original não carregada, impossível visualizar.\")"\n   ]
  },
  {
   "cell_type": "markdown",
   "metadata": {},
   "source": [
    "## 3. Simplificação da Malha\n",
    "\n",
    "Aplicamos o algoritmo de decimação quadrática para reduzir o número de faces da malha, conforme especificado (5k-10k faces). Isso é crucial para otimizar o desempenho dos algoritmos de detecção em hardware limitado."
   ]
  },
  {
   "cell_type": "code",
   "execution_count": null,
   "metadata": {},
   "outputs": [],
   "source": [
    "TARGET_FACES = 5000 # Alvo de faces para simplificação\n",
    "\n",
    "if mesh_original:\n",
    "    logging.info(f\"Simplificando a malha para aproximadamente {TARGET_FACES} faces...\")\n",
    "    mesh_simplified = processor.simplify(mesh_original, \n",
    "                                       target_faces=TARGET_FACES, \n",
    "                                       use_cache=True, \n",
    "                                       original_filename=TARGET_STL_FILENAME)\n",
    "    \n",
    "    if mesh_simplified:\n",
    "        logging.info(f\"Malha simplificada com sucesso.\")\n",
    "        print(f\"Número de Vértices (Simplificada): {len(mesh_simplified.vertices)}\")\n",
    "        print(f\"Número de Faces (Simplificada): {len(mesh_simplified.faces)}\")\n",
    "    else:\n",
    "        logging.warning(\"Falha ao simplificar a malha. A análise continuará com a malha original, se possível.\")\n",
    "        mesh_simplified = mesh_original # Usar original se simplificação falhar\n",
    "else:\n",
    "    print(\"Malha original não carregada, impossível simplificar.\")\n",
    "    mesh_simplified = None"
   ]
  },
  {
   "cell_type": "markdown",
   "metadata": {},
   "source": [
    "## 4. Visualização da Malha Simplificada\n",
    "\n",
    "Visualizamos a malha após a simplificação para comparar com a original."
   ]
  },
  {
   "cell_type": "code",
   "execution_count": null,
   "metadata": {},
   "outputs": [],
   "source": [
    "if mesh_simplified:\n",
    "    logging.info(\"Visualizando malha simplificada...\")\n",
    "    vis_simpl_2d_path = os.path.join(RESULTS_DIR, f\"{os.path.splitext(TARGET_STL_FILENAME)[0]}_simplified_{TARGET_FACES}f_2d.png\")\n",
    "    plot_landmarks(mesh_simplified, \n",
    "                   landmarks_dict=None, \n",
    "                   title=f\"Malha Simplificada ({len(mesh_simplified.faces)} faces): {TARGET_STL_FILENAME}\", \n",
    "                   save_path_2d=vis_simpl_2d_path)\n",
    "    \n",
    "    if os.path.exists(vis_simpl_2d_path):\n",
    "        print(f\"Visualização 2D da malha simplificada salva em: {vis_simpl_2d_path}\")\n",
    "        # from IPython.display import Image\n",
    "        # display(Image(filename=vis_simpl_2d_path)) # Descomentar para exibir no notebook\n",
    "else:\n",
    "    print(\"Malha simplificada não disponível para visualização.\")"\n   ]
  },
  {
   "cell_type": "markdown",
   "metadata": {},
   "source": [
    "## 5. Verificação do Cache\n",
    "\n",
    "Executamos novamente o carregamento e a simplificação para verificar se o cache está sendo utilizado (o tempo de execução deve ser significativamente menor)."\n   ]
  },
  {
   "cell_type": "code",
   "execution_count": null,
   "metadata": {},
   "outputs": [],
   "source": [
    "if mesh_original: # Só faz sentido testar se o carregamento inicial funcionou\n",
    "    print(\"\n--- Testando Cache ---\")\n",
    "    logging.info(\"Recarregando malha original (deve usar cache)...\")\n",
    "    start_time = time.time()\n",
    "    mesh_original_cached = processor.load_skull(TARGET_STL_FILENAME, use_cache=True)\n",
    "    end_time = time.time()\n",
    "    if mesh_original_cached:\n",
    "        print(f\"Tempo de recarregamento (cache): {end_time - start_time:.4f} segundos\")\n",
    "    else:\n",
    "        print(\"Falha ao recarregar do cache.\")\n",
    "        \n",
    "    logging.info(\"Resimplificando malha (deve usar cache)...\")\n",
    "    start_time = time.time()\n",
    "    mesh_simplified_cached = processor.simplify(mesh_original, \n",
    "                                              target_faces=TARGET_FACES, \n",
    "                                              use_cache=True, \n",
    "                                              original_filename=TARGET_STL_FILENAME)\n",
    "    end_time = time.time()\n",
    "    if mesh_simplified_cached:\n",
    "        print(f\"Tempo de resimplificação (cache): {end_time - start_time:.4f} segundos\")\n",
    "    else:\n",
    "        print(\"Falha ao resimplificar do cache.\")"
   ]
  },
  {
   "cell_type": "markdown",
   "metadata": {},
   "source": [
    "## 6. Análise Adicional (Opcional)\n",
    "\n",
    "Pode-se adicionar aqui outras análises exploratórias, como:\n",
    "- Distribuição do comprimento das arestas.\n",
    "- Verificação de watertightness e orientação das faces.\n",
    "- Cálculo e visualização de curvatura (embora isso seja feito nos detectores)."\n   ]
  },
  {
   "cell_type": "code",
   "execution_count": null,
   "metadata": {},
   "outputs": [],
   "source": [
    "# Exemplo: Histograma do comprimento das arestas da malha simplificada\n",
    "if mesh_simplified:\n",
    "    edge_lengths = mesh_simplified.edges_unique_length\n",
    "    plt.figure(figsize=(10, 5))\n",
    "    plt.hist(edge_lengths, bins=50)\n",
    "    plt.title(f\"Distribuição do Comprimento das Arestas (Malha Simplificada: {TARGET_STL_FILENAME})\")\n",
    "    plt.xlabel(\"Comprimento da Aresta\")\n",
    "    plt.ylabel(\"Frequência\")\n",
    "    hist_path = os.path.join(RESULTS_DIR, f\"{os.path.splitext(TARGET_STL_FILENAME)[0]}_simplified_edge_hist.png\")\n",
    "    plt.savefig(hist_path)\n",
    "    print(f\"Histograma de comprimentos de aresta salvo em: {hist_path}\")\n",
    "    # plt.show() # Descomentar para exibir\n",
    "    plt.close()"
   ]
  },
  {
   "cell_type": "markdown",
   "metadata": {},
   "source": [
    "## Conclusão da Exploração\n",
    "\n",
    "Este notebook demonstrou o carregamento, visualização e simplificação de um modelo de crânio STL usando as ferramentas desenvolvidas no projeto. A etapa de simplificação é validada como funcional e o sistema de cache ajuda a otimizar o reprocessamento. A malha simplificada está pronta para ser usada nas etapas de detecção de landmarks."
   ]
  }
 ],
 "metadata": {
  "kernelspec": {
   "display_name": "Python 3",
   "language": "python",
   "name": "python3"
  },
  "language_info": {
   "codemirror_mode": {
    "name": "ipython",
    "version": 3
   },
   "file_extension": ".py",
   "mimetype": "text/x-python",
   "name": "python",
   "nbconvert_exporter": "python",
   "pygments_lexer": "ipython3",
   "version": "3.11.0"
  }
 },
 "nbformat": 4,
 "nbformat_minor": 4
}

